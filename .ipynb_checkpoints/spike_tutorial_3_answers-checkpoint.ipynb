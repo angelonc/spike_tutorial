{
 "cells": [
  {
   "cell_type": "markdown",
   "metadata": {},
   "source": [
    "# Spike Tutorial -- Part 3\n",
    "\n",
    "## Analyzing Populations 2\n",
    "\n",
    "In the last section, we loaded data from a population of neurons and learned to do some single cell statistics and population averages. This time, let's look more specifically at how to summarize stimulus effects across the population, and selecting subsets of neurons.\n",
    "\n",
    "First import our favorite modules!"
   ]
  },
  {
   "cell_type": "code",
   "execution_count": 2,
   "metadata": {},
   "outputs": [],
   "source": [
    "# import necessary modules\n",
    "import numpy as np\n",
    "import matplotlib.pyplot as plt\n",
    "import pandas as pd\n",
    "import os\n",
    "import pickle\n",
    "\n",
    "%matplotlib inline"
   ]
  },
  {
   "cell_type": "markdown",
   "metadata": {},
   "source": [
    "Let's load our pickled data."
   ]
  },
  {
   "cell_type": "code",
   "execution_count": 3,
   "metadata": {},
   "outputs": [],
   "source": [
    "root = '_data'\n",
    "fn = os.path.join(root,'sessionInfo.pkl')\n",
    "\n",
    "with open(fn,'rb') as f:\n",
    "    [order, clustInfo, fs, stimOn, laserOn] = pickle.load(f)"
   ]
  },
  {
   "cell_type": "markdown",
   "metadata": {},
   "source": [
    "Last time we wrote a function called `makePSTH`, and if we want use that function in this notebook, we'd first need to define it again. One way around that is the save the code for the function to a file. I wrote that function and the `ismember` function from tutorial 1 in a module file called `lab_tools.py`. Let's import that module and look at the help for our functions:"
   ]
  },
  {
   "cell_type": "code",
   "execution_count": 1,
   "metadata": {
    "scrolled": true
   },
   "outputs": [
    {
     "name": "stdout",
     "output_type": "stream",
     "text": [
      "Help on function ismember in module lab_tools:\n",
      "\n",
      "ismember(A, B)\n",
      "    replaces values in A with the index of their matches in B.\n",
      "    \n",
      "    (ie. if A = [1 1 1 2 2] and B = [2 1], res = ismember(A,B) returns [2 2 2 1 1]\n",
      "    \n",
      "    Arguments:\n",
      "    A -- array to be modified\n",
      "    B -- modifier array\n",
      "    \n",
      "    Returns:\n",
      "    res -- array with the positional index of B == A replacing values in A\n",
      "\n",
      "Help on function makePSTH in module lab_tools:\n",
      "\n",
      "makePSTH(spikes, triggers, edges)\n",
      "    makes a PSTH given spikes, event triggers, and temporal bin edges\n",
      "\n"
     ]
    }
   ],
   "source": [
    "import lab_tools\n",
    "help(lab_tools.ismember)\n",
    "help(lab_tools.makePSTH)"
   ]
  },
  {
   "cell_type": "markdown",
   "metadata": {},
   "source": [
    "Kernel smoothing"
   ]
  },
  {
   "cell_type": "code",
   "execution_count": null,
   "metadata": {},
   "outputs": [],
   "source": []
  }
 ],
 "metadata": {
  "kernelspec": {
   "display_name": "Python 3",
   "language": "python",
   "name": "python3"
  },
  "language_info": {
   "codemirror_mode": {
    "name": "ipython",
    "version": 3
   },
   "file_extension": ".py",
   "mimetype": "text/x-python",
   "name": "python",
   "nbconvert_exporter": "python",
   "pygments_lexer": "ipython3",
   "version": "3.7.7"
  }
 },
 "nbformat": 4,
 "nbformat_minor": 4
}
